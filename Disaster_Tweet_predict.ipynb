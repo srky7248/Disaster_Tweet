{
 "cells": [
  {
   "cell_type": "code",
   "execution_count": 1,
   "id": "c50a9bcf",
   "metadata": {},
   "outputs": [],
   "source": [
    "import string\n",
    "import pickle\n",
    "from keras.models import load_model\n",
    "from nltk.tokenize import word_tokenize\n",
    "import re\n",
    "from nltk.corpus import stopwords\n",
    "stop=set(stopwords.words('english'))\n",
    "from keras.preprocessing.text import Tokenizer\n",
    "from keras_preprocessing.sequence import pad_sequences"
   ]
  },
  {
   "cell_type": "code",
   "execution_count": 2,
   "id": "fa1ebd83",
   "metadata": {},
   "outputs": [],
   "source": [
    "def receive_text():\n",
    "    entered_text = input(\"Please enter a string (Press Enter to finish): \")\n",
    "    if not entered_text:\n",
    "        return\n",
    "    return entered_text"
   ]
  },
  {
   "cell_type": "code",
   "execution_count": 4,
   "id": "6f97f53c",
   "metadata": {},
   "outputs": [
    {
     "name": "stdout",
     "output_type": "stream",
     "text": [
      "Please enter a string (Press Enter to finish): Our Deeds are the Reason of this #earthquake May ALLAH Forgive us all\n"
     ]
    }
   ],
   "source": [
    "entered_text = receive_text()"
   ]
  },
  {
   "cell_type": "code",
   "execution_count": 5,
   "id": "a7f78291",
   "metadata": {},
   "outputs": [],
   "source": [
    "def data_cleaning(text):\n",
    "    url = re.compile(r'https?://\\S+|www\\.\\S+')\n",
    "    text = url.sub(r'', text)\n",
    "    \n",
    "    html = re.compile(r'<.*?>')\n",
    "    text = html.sub(r'', text)\n",
    "    \n",
    "    emoji_pattern = re.compile(\"[\"\n",
    "                           u\"\\U0001F600-\\U0001F64F\"  # emoticons\n",
    "                           u\"\\U0001F300-\\U0001F5FF\"  # symbols & pictographs\n",
    "                           u\"\\U0001F680-\\U0001F6FF\"  # transport & map symbols\n",
    "                           u\"\\U0001F1E0-\\U0001F1FF\"  # flags (iOS)\n",
    "                           u\"\\U00002702-\\U000027B0\"\n",
    "                           u\"\\U000024C2-\\U0001F251\"\n",
    "                           \"]+\", flags=re.UNICODE)\n",
    "    text = emoji_pattern.sub(r'', text)\n",
    "                               \n",
    "    table=str.maketrans('','',string.punctuation)\n",
    "    text = text.translate(table)\n",
    "    \n",
    "    text = text.lower()\n",
    "    return text\n",
    "                               "
   ]
  },
  {
   "cell_type": "code",
   "execution_count": 6,
   "id": "fe1907b9",
   "metadata": {},
   "outputs": [],
   "source": [
    "entered_text = data_cleaning(entered_text)"
   ]
  },
  {
   "cell_type": "code",
   "execution_count": 7,
   "id": "9b25adde",
   "metadata": {},
   "outputs": [
    {
     "name": "stdout",
     "output_type": "stream",
     "text": [
      "our deeds are the reason of this earthquake may allah forgive us all\n"
     ]
    }
   ],
   "source": [
    "print(entered_text)"
   ]
  },
  {
   "cell_type": "code",
   "execution_count": 8,
   "id": "80fe5650",
   "metadata": {},
   "outputs": [],
   "source": [
    "def create_corpus(text):\n",
    "    corpus = []\n",
    "    words = [word.lower() for word in word_tokenize(text) if((word.isalpha()==1) & (word not in stop))]\n",
    "    corpus.append(words)\n",
    "    return corpus"
   ]
  },
  {
   "cell_type": "code",
   "execution_count": 9,
   "id": "c2f83092",
   "metadata": {},
   "outputs": [],
   "source": [
    "entered_text = create_corpus(entered_text)"
   ]
  },
  {
   "cell_type": "code",
   "execution_count": 10,
   "id": "ab2bf268",
   "metadata": {},
   "outputs": [
    {
     "name": "stdout",
     "output_type": "stream",
     "text": [
      "[['deeds', 'reason', 'earthquake', 'may', 'allah', 'forgive', 'us']]\n"
     ]
    }
   ],
   "source": [
    "print(entered_text)"
   ]
  },
  {
   "cell_type": "code",
   "execution_count": 11,
   "id": "7110ad21",
   "metadata": {},
   "outputs": [],
   "source": [
    "with open('./model/tokenize_model/tokenizer_obj.pkl', 'rb') as file:\n",
    "    tokenizer_obj = pickle.load(file)"
   ]
  },
  {
   "cell_type": "code",
   "execution_count": 14,
   "id": "66a1757c",
   "metadata": {},
   "outputs": [],
   "source": [
    "MAX_LEN = 50\n",
    "sequences=tokenizer_obj.texts_to_sequences(entered_text)\n",
    "tweet_pad=pad_sequences(sequences,maxlen=MAX_LEN,truncating='post',padding='post')"
   ]
  },
  {
   "cell_type": "code",
   "execution_count": 15,
   "id": "795d8fec",
   "metadata": {},
   "outputs": [
    {
     "name": "stdout",
     "output_type": "stream",
     "text": [
      "[[5467  738  175   80 1805 3529   16    0    0    0    0    0    0    0\n",
      "     0    0    0    0    0    0    0    0    0    0    0    0    0    0\n",
      "     0    0    0    0    0    0    0    0    0    0    0    0    0    0\n",
      "     0    0    0    0    0    0    0    0]]\n"
     ]
    }
   ],
   "source": [
    "print(tweet_pad)"
   ]
  },
  {
   "cell_type": "code",
   "execution_count": 16,
   "id": "f6011721",
   "metadata": {},
   "outputs": [],
   "source": [
    "model = load_model('./model/studyed_model/desaster.h5')"
   ]
  },
  {
   "cell_type": "code",
   "execution_count": 17,
   "id": "9e5c2c3e",
   "metadata": {},
   "outputs": [
    {
     "name": "stdout",
     "output_type": "stream",
     "text": [
      "1/1 [==============================] - 4s 4s/step\n"
     ]
    }
   ],
   "source": [
    "predict = model.predict(tweet_pad)"
   ]
  },
  {
   "cell_type": "code",
   "execution_count": 18,
   "id": "2c559e33",
   "metadata": {},
   "outputs": [
    {
     "name": "stdout",
     "output_type": "stream",
     "text": [
      "[[0.47774145]]\n"
     ]
    }
   ],
   "source": [
    "print(predict)"
   ]
  },
  {
   "cell_type": "code",
   "execution_count": 19,
   "id": "292959d8",
   "metadata": {},
   "outputs": [
    {
     "name": "stdout",
     "output_type": "stream",
     "text": [
      "not disaster\n"
     ]
    }
   ],
   "source": [
    "if predict >= 0.5:\n",
    "    print(\"disaster\")\n",
    "else:\n",
    "    print(\"not disaster\")"
   ]
  },
  {
   "cell_type": "code",
   "execution_count": 55,
   "id": "b0cf8a76",
   "metadata": {},
   "outputs": [],
   "source": [
    "\n",
    "# 1. Our Deeds are the Reason of this #earthquake May ALLAH Forgive us all  :disaster\n",
    "# 2. 13,000 people receive #wildfires evacuation orders in California  :disaster\n",
    "# 3. @bbcmtd Wholesale Markets ablaze http://t.co/lHYXEOHY6C  :disaster\n",
    "# 4. My car is so fast  :not\n",
    "# 5. What a goooooooaaaaaal!!!!!!  :not\n",
    "# 6. #AFRICANBAZE: Breaking news:Nigeria flag set ablaze in Aba. http://t.co/2nndBGwyEi  :disaster "
   ]
  },
  {
   "cell_type": "code",
   "execution_count": null,
   "id": "d9bd8ba9",
   "metadata": {},
   "outputs": [],
   "source": []
  }
 ],
 "metadata": {
  "kernelspec": {
   "display_name": "chatbot",
   "language": "python",
   "name": "chatbot"
  },
  "language_info": {
   "codemirror_mode": {
    "name": "ipython",
    "version": 3
   },
   "file_extension": ".py",
   "mimetype": "text/x-python",
   "name": "python",
   "nbconvert_exporter": "python",
   "pygments_lexer": "ipython3",
   "version": "3.10.13"
  }
 },
 "nbformat": 4,
 "nbformat_minor": 5
}
